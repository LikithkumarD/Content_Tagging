{
 "cells": [
  {
   "cell_type": "code",
   "execution_count": 1,
   "id": "e53cc7c8-a68a-4ed4-8094-f3d3b99ec0ce",
   "metadata": {},
   "outputs": [],
   "source": [
    "import json\n",
    "import os\n",
    "import fitz\n",
    "import re\n",
    "from langchain_google_genai import ChatGoogleGenerativeAI\n",
    "from langchain_core.prompts import PromptTemplate\n",
    "from langchain.chains import LLMChain\n",
    "from langchain.output_parsers import StructuredOutputParser\n",
    "from langchain.prompts import ChatPromptTemplate\n",
    "from langdetect import detect\n",
    "\n",
    "GOOGLE_API_KEY = <GOOGLE_API_KEY>\n",
    "llm = ChatGoogleGenerativeAI(model=\"gemini-pro\", google_api_key=GOOGLE_API_KEY)"
   ]
  },
  {
   "cell_type": "code",
   "execution_count": 2,
   "id": "c1b61184-80b8-4e45-9450-e3b79eaf4967",
   "metadata": {},
   "outputs": [],
   "source": [
    "from langchain.output_parsers import ResponseSchema"
   ]
  },
  {
   "cell_type": "code",
   "execution_count": 3,
   "id": "97bbe1bf-2c7a-4117-a0a2-5ec0d878221a",
   "metadata": {},
   "outputs": [],
   "source": [
    "def extract_text_from_pdf(pdf_path):\n",
    "    text = \"\"\n",
    "    with fitz.open(pdf_path) as doc:\n",
    "        for page in doc:\n",
    "            text += page.get_text()\n",
    "            #print(text)\n",
    "    return text"
   ]
  },
  {
   "cell_type": "code",
   "execution_count": 4,
   "id": "fb36f29b-9009-42ec-a22b-80691528be83",
   "metadata": {},
   "outputs": [],
   "source": [
    "def clean_text(text):\n",
    "    cleaned_text = re.sub(r'[^a-zA-Z0-9\\s]', '', text)\n",
    "    cleaned_text = re.sub(r'\\s+', ' ', cleaned_text).strip()\n",
    "    #print(len(cleaned_text))\n",
    "    return cleaned_text"
   ]
  },
  {
   "cell_type": "code",
   "execution_count": 5,
   "id": "ad720fc9-53b6-4b62-9ab1-3c84b4010012",
   "metadata": {},
   "outputs": [],
   "source": [
    "response_schemas = [\n",
    "    ResponseSchema(name=\"Language\", description=\"Language used in the article\"),\n",
    "    ResponseSchema(name=\"Length\", description=\"Length of the article in words\"),\n",
    "    ResponseSchema(name=\"Grade_Level\", description=\"Grade level of the content\"),\n",
    "    ResponseSchema(name=\"Discipline\", description=\"Discipline or subject of the article\"),\n",
    "    ResponseSchema(name=\"Blooms_Level\", description=\"Bloom's taxonomy level of the content\")\n",
    "]"
   ]
  },
  {
   "cell_type": "code",
   "execution_count": 6,
   "id": "64781a41-3cb6-4a89-9b60-d58b33c1d623",
   "metadata": {},
   "outputs": [],
   "source": [
    "# Create the output parser\n",
    "output_parser = StructuredOutputParser.from_response_schemas(response_schemas)\n",
    "format_instructions = output_parser.get_format_instructions()"
   ]
  },
  {
   "cell_type": "code",
   "execution_count": 7,
   "id": "9df5b234-5429-4435-9d5e-44d954607421",
   "metadata": {},
   "outputs": [],
   "source": [
    "example = '''{\n",
    "    \"Language\": \"language used\",\n",
    "    \"Length\": \"length of the article in words\",\n",
    "    \"Grade_Level\": \"grade level\",\n",
    "    \"Discipline\": \"discipline\",\n",
    "    \"Blooms_Level\": \"bloom's level\"\n",
    "}'''"
   ]
  },
  {
   "cell_type": "code",
   "execution_count": 8,
   "id": "f23beaa2-e3ae-449c-b664-6d905737116c",
   "metadata": {},
   "outputs": [],
   "source": [
    "template = \"\"\"\\\n",
    "You are an educational curriculum expert system tasked to find specific information for the article. \n",
    "Identify the following items from the review text:\n",
    "- Language used in the article\n",
    "- Length of the article in words\n",
    "- Grade level of the content (e.g., 10th grade, 12th grade, University)\n",
    "- Discipline or subject of the article\n",
    "- Bloom's taxonomy level of the content\n",
    "\n",
    "The review text is delimited with triple backticks.\n",
    "\n",
    "Take your time to analyze the review text and find the required information.\n",
    "Output the response in the desired format as given in {example} but don't use the same value.\n",
    "\n",
    "Make your response as short as possible.\n",
    "Make sure to answer in the correct format.\n",
    "Review text: ```{article}```\n",
    "\n",
    "{format_instructions}\n",
    "\n",
    "If the information isn't present, use 'unknown' as the value, not null or None.\n",
    "\"\"\""
   ]
  },
  {
   "cell_type": "code",
   "execution_count": 9,
   "id": "d3b6a1af-0798-4468-b8d0-e8fd2888fa0d",
   "metadata": {},
   "outputs": [],
   "source": [
    "prompt = ChatPromptTemplate.from_template(template=template)"
   ]
  },
  {
   "cell_type": "code",
   "execution_count": 10,
   "id": "9a54c40d-f8e4-4b27-9814-f5c8f154a3b5",
   "metadata": {},
   "outputs": [],
   "source": []
  },
  {
   "cell_type": "code",
   "execution_count": 11,
   "id": "f56505bb-2248-41bd-90ce-d1ac4ac84179",
   "metadata": {},
   "outputs": [],
   "source": [
    "chain = prompt | llm"
   ]
  },
  {
   "cell_type": "code",
   "execution_count": 12,
   "id": "aa34f1f2-beef-4ce4-9e70-da1a24cc0c20",
   "metadata": {},
   "outputs": [
    {
     "data": {
      "text/plain": [
       "ChatPromptTemplate(input_variables=['article', 'example', 'format_instructions'], messages=[HumanMessagePromptTemplate(prompt=PromptTemplate(input_variables=['article', 'example', 'format_instructions'], template=\"You are an educational curriculum expert system tasked to find specific information for the article. \\nIdentify the following items from the review text:\\n- Language used in the article\\n- Length of the article in words\\n- Grade level of the content (e.g., 10th grade, 12th grade, University)\\n- Discipline or subject of the article\\n- Bloom's taxonomy level of the content\\n\\nThe review text is delimited with triple backticks.\\n\\nTake your time to analyze the review text and find the required information.\\nOutput the response in the desired format as given in {example} but don't use the same value.\\n\\nMake your response as short as possible.\\nMake sure to answer in the correct format.\\nReview text: ```{article}```\\n\\n{format_instructions}\\n\\nIf the information isn't present, use 'unknown' as the value, not null or None.\\n\"))])\n",
       "| ChatGoogleGenerativeAI(model='models/gemini-pro', google_api_key=SecretStr('**********'), client=<google.ai.generativelanguage_v1beta.services.generative_service.client.GenerativeServiceClient object at 0x000001FBFA052190>, async_client=<google.ai.generativelanguage_v1beta.services.generative_service.async_client.GenerativeServiceAsyncClient object at 0x000001FBF9BCF2D0>, default_metadata=())"
      ]
     },
     "execution_count": 12,
     "metadata": {},
     "output_type": "execute_result"
    }
   ],
   "source": [
    "chain"
   ]
  },
  {
   "cell_type": "code",
   "execution_count": 15,
   "id": "4f92cf43-c98a-4395-9180-e7d0649d3eed",
   "metadata": {},
   "outputs": [],
   "source": [
    "text = extract_text_from_pdf(r\"C:\\Users\\ual-laptop\\Downloads\\resources\\Chapter\\10-Sc-Acid-Bases-and-Salts-Notes.pdf\")\n",
    "cleaned_text = clean_text(text)"
   ]
  },
  {
   "cell_type": "code",
   "execution_count": 16,
   "id": "e503bdd4-d093-4509-bc55-86417a4871f8",
   "metadata": {},
   "outputs": [],
   "source": [
    "inputs = {\n",
    "    \"article\": cleaned_text,\n",
    "    \"example\": example,\n",
    "    \"format_instructions\": format_instructions\n",
    "}"
   ]
  },
  {
   "cell_type": "code",
   "execution_count": 17,
   "id": "2f2e975c-364a-403d-93e3-0a360a28c8be",
   "metadata": {},
   "outputs": [],
   "source": [
    "response = chain.invoke(inputs)"
   ]
  },
  {
   "cell_type": "code",
   "execution_count": 18,
   "id": "35f1871f-f8c6-46b0-9494-c85b75955718",
   "metadata": {},
   "outputs": [
    {
     "data": {
      "text/plain": [
       "AIMessage(content='```json\\n{\\n\\t\"Language\": \"English\",\\n\\t\"Length\": \"1336\",\\n\\t\"Grade_Level\": \"10th grade\",\\n\\t\"Discipline\": \"Chemistry\",\\n\\t\"Blooms_Level\": \"Remembering\"\\n}\\n```', response_metadata={'prompt_feedback': {'block_reason': 0, 'safety_ratings': []}, 'finish_reason': 'STOP', 'safety_ratings': [{'category': 'HARM_CATEGORY_SEXUALLY_EXPLICIT', 'probability': 'NEGLIGIBLE', 'blocked': False}, {'category': 'HARM_CATEGORY_HATE_SPEECH', 'probability': 'NEGLIGIBLE', 'blocked': False}, {'category': 'HARM_CATEGORY_HARASSMENT', 'probability': 'NEGLIGIBLE', 'blocked': False}, {'category': 'HARM_CATEGORY_DANGEROUS_CONTENT', 'probability': 'NEGLIGIBLE', 'blocked': False}]}, id='run-4ad37c4f-fb5d-4731-afa0-87531156be2c-0')"
      ]
     },
     "execution_count": 18,
     "metadata": {},
     "output_type": "execute_result"
    }
   ],
   "source": [
    "response"
   ]
  },
  {
   "cell_type": "code",
   "execution_count": 19,
   "id": "a79a3b61-2d7e-4ab9-9268-092a9b8bf893",
   "metadata": {},
   "outputs": [],
   "source": [
    "json_string = response.content.strip('```json\\n').strip('\\n```')"
   ]
  },
  {
   "cell_type": "code",
   "execution_count": 20,
   "id": "e0d7cfe0-308c-463a-8808-22e1f4ae9a2e",
   "metadata": {},
   "outputs": [],
   "source": [
    "data = json.loads(json_string)"
   ]
  },
  {
   "cell_type": "code",
   "execution_count": 21,
   "id": "16dbbfa5-15a1-43c2-913c-458129c28a7b",
   "metadata": {},
   "outputs": [
    {
     "data": {
      "text/plain": [
       "{'Language': 'English',\n",
       " 'Length': '1336',\n",
       " 'Grade_Level': '10th grade',\n",
       " 'Discipline': 'Chemistry',\n",
       " 'Blooms_Level': 'Remembering'}"
      ]
     },
     "execution_count": 21,
     "metadata": {},
     "output_type": "execute_result"
    }
   ],
   "source": [
    "data"
   ]
  },
  {
   "cell_type": "code",
   "execution_count": 22,
   "id": "c6b373e6-e0fc-49c3-89eb-0817f700798c",
   "metadata": {},
   "outputs": [],
   "source": [
    "language = data.get(\"Language\")\n",
    "length = data.get(\"Length\")\n",
    "grade_level = data.get(\"Grade_Level\")\n",
    "discipline = data.get(\"Discipline\")\n",
    "blooms_level = data.get(\"Blooms_Level\")\n",
    "#Learning_Objectives = data.get(\"Learning_Objectives\")\n",
    "#Learning_Facets = data.get(\"Learning_Facets\")"
   ]
  },
  {
   "cell_type": "code",
   "execution_count": 23,
   "id": "49f0b555-9ed6-4f07-ba45-613ad4c77838",
   "metadata": {},
   "outputs": [
    {
     "name": "stdout",
     "output_type": "stream",
     "text": [
      "Language: English\n",
      "Length: 1336\n",
      "Grade Level: 10th grade\n",
      "Discipline: Chemistry\n",
      "Blooms Level: Remembering\n"
     ]
    }
   ],
   "source": [
    "print(f\"Language: {language}\")\n",
    "print(f\"Length: {length}\")\n",
    "print(f\"Grade Level: {grade_level}\")\n",
    "print(f\"Discipline: {discipline}\")\n",
    "print(f\"Blooms Level: {blooms_level}\")\n",
    "#print(f\"Learning_Objectives: {Learning_Objectives}\")\n",
    "#print(f\"Learning_Facets: {Learning_Facets}\")"
   ]
  },
  {
   "cell_type": "code",
   "execution_count": null,
   "id": "1bff6fd6-eb12-4531-85d8-7012351755b9",
   "metadata": {},
   "outputs": [],
   "source": []
  },
  {
   "cell_type": "code",
   "execution_count": null,
   "id": "566a8204-1d13-46f7-9885-4733c0fefd85",
   "metadata": {},
   "outputs": [],
   "source": []
  }
 ],
 "metadata": {
  "kernelspec": {
   "display_name": "Python 3 (ipykernel)",
   "language": "python",
   "name": "python3"
  },
  "language_info": {
   "codemirror_mode": {
    "name": "ipython",
    "version": 3
   },
   "file_extension": ".py",
   "mimetype": "text/x-python",
   "name": "python",
   "nbconvert_exporter": "python",
   "pygments_lexer": "ipython3",
   "version": "3.11.7"
  }
 },
 "nbformat": 4,
 "nbformat_minor": 5
}
